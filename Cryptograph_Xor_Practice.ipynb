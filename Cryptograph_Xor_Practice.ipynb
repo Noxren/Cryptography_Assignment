{
 "cells": [
  {
   "cell_type": "markdown",
   "metadata": {},
   "source": [
    "# Question 1\n",
    "## Many Time Pad \n",
    "\n",
    "    Let us see what goes wrong when a stream cipher key is used more than once.  Below are eleven hex-encoded ciphertexts that are the result of encrypting eleven plaintexts with a stream cipher, all with the same stream cipher key.  Your goal is to decrypt the last ciphertext, and submit the secret message within it as solution. \n",
    "\n",
    "    Hint: XOR the ciphertexts together, and consider what happens when a space is XORed with a character in [a-zA-Z]."
   ]
  },
  {
   "cell_type": "code",
   "execution_count": 8,
   "metadata": {},
   "outputs": [],
   "source": [
    "c1 = \"315c4eeaa8b5f8aaf9174145bf43e1784b8fa00dc71d885a804e5ee9fa40b16349c146fb778cdf2d3aff021dfff5b403b510d0d0455468aeb98622b137dae857553ccd8883a7bc37520e06e515d22c954eba5025b8cc57ee59418ce7dc6bc41556bdb36bbca3e8774301fbcaa3b83b220809560987815f65286764703de0f3d524400a19b159610b11ef3e\"\n",
    "c2 = \"234c02ecbbfbafa3ed18510abd11fa724fcda2018a1a8342cf064bbde548b12b07df44ba7191d9606ef4081ffde5ad46a5069d9f7f543bedb9c861bf29c7e205132eda9382b0bc2c5c4b45f919cf3a9f1cb74151f6d551f4480c82b2cb24cc5b028aa76eb7b4ab24171ab3cdadb8356f\"\n",
    "c3 = \"32510ba9a7b2bba9b8005d43a304b5714cc0bb0c8a34884dd91304b8ad40b62b07df44ba6e9d8a2368e51d04e0e7b207b70b9b8261112bacb6c866a232dfe257527dc29398f5f3251a0d47e503c66e935de81230b59b7afb5f41afa8d661cb\"\n",
    "c4 = \"32510ba9aab2a8a4fd06414fb517b5605cc0aa0dc91a8908c2064ba8ad5ea06a029056f47a8ad3306ef5021eafe1ac01a81197847a5c68a1b78769a37bc8f4575432c198ccb4ef63590256e305cd3a9544ee4160ead45aef520489e7da7d835402bca670bda8eb775200b8dabbba246b130f040d8ec6447e2c767f3d30ed81ea2e4c1404e1315a1010e7229be6636aaa\"\n",
    "c5 = \"3f561ba9adb4b6ebec54424ba317b564418fac0dd35f8c08d31a1fe9e24fe56808c213f17c81d9607cee021dafe1e001b21ade877a5e68bea88d61b93ac5ee0d562e8e9582f5ef375f0a4ae20ed86e935de81230b59b73fb4302cd95d770c65b40aaa065f2a5e33a5a0bb5dcaba43722130f042f8ec85b7c2070\"\n",
    "c6 = \"32510bfbacfbb9befd54415da243e1695ecabd58c519cd4bd2061bbde24eb76a19d84aba34d8de287be84d07e7e9a30ee714979c7e1123a8bd9822a33ecaf512472e8e8f8db3f9635c1949e640c621854eba0d79eccf52ff111284b4cc61d11902aebc66f2b2e436434eacc0aba938220b084800c2ca4e693522643573b2c4ce35050b0cf774201f0fe52ac9f26d71b6cf61a711cc229f77ace7aa88a2f19983122b11be87a59c355d25f8e4\"\n",
    "c7 = \"32510bfbacfbb9befd54415da243e1695ecabd58c519cd4bd90f1fa6ea5ba47b01c909ba7696cf606ef40c04afe1ac0aa8148dd066592ded9f8774b529c7ea125d298e8883f5e9305f4b44f915cb2bd05af51373fd9b4af511039fa2d96f83414aaaf261bda2e97b170fb5cce2a53e675c154c0d9681596934777e2275b381ce2e40582afe67650b13e72287ff2270abcf73bb028932836fbdecfecee0a3b894473c1bbeb6b4913a536ce4f9b13f1efff71ea313c8661dd9a4ce\"\n",
    "c8 = \"315c4eeaa8b5f8bffd11155ea506b56041c6a00c8a08854dd21a4bbde54ce56801d943ba708b8a3574f40c00fff9e00fa1439fd0654327a3bfc860b92f89ee04132ecb9298f5fd2d5e4b45e40ecc3b9d59e9417df7c95bba410e9aa2ca24c5474da2f276baa3ac325918b2daada43d6712150441c2e04f6565517f317da9d3\"\n",
    "c9 = \"271946f9bbb2aeadec111841a81abc300ecaa01bd8069d5cc91005e9fe4aad6e04d513e96d99de2569bc5e50eeeca709b50a8a987f4264edb6896fb537d0a716132ddc938fb0f836480e06ed0fcd6e9759f40462f9cf57f4564186a2c1778f1543efa270bda5e933421cbe88a4a52222190f471e9bd15f652b653b7071aec59a2705081ffe72651d08f822c9ed6d76e48b63ab15d0208573a7eef027\"\n",
    "c10 = \"466d06ece998b7a2fb1d464fed2ced7641ddaa3cc31c9941cf110abbf409ed39598005b3399ccfafb61d0315fca0a314be138a9f32503bedac8067f03adbf3575c3b8edc9ba7f537530541ab0f9f3cd04ff50d66f1d559ba520e89a2cb2a83\"\n",
    "\n",
    "tgt_msg = \"32510ba9babebbbefd001547a810e67149caee11d945cd7fc81a05e9f85aac650e9052ba6a8cd8257bf14d13e6f0a803b54fde9e77472dbff89d71b57bddef121336cb85ccb8f3315f4b52e301d16e9f52f904\"\n",
    "\n",
    "clist = [c1, c2, c3, c4, c5, c6, c7, c8, c9, c10]"
   ]
  },
  {
   "cell_type": "markdown",
   "metadata": {},
   "source": [
    "For completeness, here is the python script used to generate the ciphertexts.\n",
    "\n",
    "(it doesn't matter if you can't read this)"
   ]
  },
  {
   "cell_type": "code",
   "execution_count": 21,
   "metadata": {},
   "outputs": [],
   "source": [
    "##import sys\n",
    "\n",
    "##MSGS = ( ---  11 secret messages  --- )\n",
    "\n",
    "##def strxor(a, b):     # xor two strings of different lengths\n",
    "##    if len(a) > len(b):\n",
    "##        return \"\".join([chr(ord(x) ^ ord(y)) for (x, y) in zip(a[:len(b)], b)])\n",
    "##    else:\n",
    "##        return \"\".join([chr(ord(x) ^ ord(y)) for (x, y) in zip(a, b[:len(a)])])\n",
    "\n",
    "##def random(size=16):\n",
    "##    return open(\"/dev/urandom\").read(size)\n",
    "\n",
    "##def encrypt(key, msg):\n",
    "##    c = strxor(key, msg)\n",
    "##    print(c.encode('hex'))\n",
    "##    return c\n",
    "\n",
    "##def main():\n",
    "##    key = random(1024)\n",
    "##    ciphertexts = [encrypt(key, msg) for msg in MSGS]"
   ]
  },
  {
   "cell_type": "markdown",
   "metadata": {},
   "source": [
    "## solution code"
   ]
  },
  {
   "cell_type": "code",
   "execution_count": 9,
   "metadata": {},
   "outputs": [],
   "source": [
    "## xor two hex text\n",
    "def hex_xor(c1, c2):\n",
    "    \n",
    "    result = \"\"\n",
    "    \n",
    "    ## xor to the longest length\n",
    "    if len(c1) > len(c2):\n",
    "        n = len(c1)\n",
    "    else:\n",
    "        n = len(c2)\n",
    "    \n",
    "    for i in range(int(n/2)):\n",
    "        \n",
    "        ## get 2 char each round\n",
    "        if (2*i) < len(c1):\n",
    "            hex1 = c1[2*i] + c1[2*i+1]\n",
    "            hex1 = \"0x\" + hex1       ## python show hex int as \"0x00\"\n",
    "            hex1 = int(hex1, 16)\n",
    "        else:\n",
    "            hex1 = int(\"0x00\", 16)     ## if nothing set to 0\n",
    "        \n",
    "        if (2*i) < len(c2):\n",
    "            hex2 = c2[2*i] + c2[2*i+1]\n",
    "            hex2 = \"0x\" + hex2\n",
    "            hex2 = int(hex2, 16)\n",
    "        else:\n",
    "            hex2 = int(\"0x00\", 16)\n",
    "        \n",
    "        r = hex(hex1^hex2)\n",
    "        \n",
    "        if len(r) == 4:\n",
    "            result = result + r[2:]\n",
    "        elif len(r) == 3:\n",
    "            result = result + \"0\" + r[2:]   ## set one char hex to two char, ex. \"0x1\" -> \"0x01\"\n",
    "        else:\n",
    "            print(\"error\")\n",
    "    \n",
    "    return result"
   ]
  },
  {
   "cell_type": "code",
   "execution_count": 10,
   "metadata": {},
   "outputs": [],
   "source": [
    "## space = 00100000\n",
    "## space xor high case alphabet -> low case alphabet\n",
    "## space xor low case alphabet -> high case alphabet\n",
    "## space xor space -> 00\n",
    "## space xor colon(:) -> 1a\n",
    "## space xor common(,) -> 0c\n",
    "def find_letter(ht):\n",
    "    \n",
    "    result_place = []\n",
    "    \n",
    "    hex_letter = [\"41\", \"42\", \"43\", \"44\", \"45\", \"46\", \"47\", \"48\", \"49\", \"4a\", \"4b\", \"4c\", \"4d\", \"4e\", \"4f\", \"50\", \"51\", \"52\"\n",
    "                  , \"53\", \"54\", \"55\", \"56\", \"57\", \"58\", \"59\", \"5a\", \"61\", \"62\", \"63\", \"64\", \"65\", \"66\", \"67\", \"68\", \"69\", \"6a\"\n",
    "                 , \"6b\", \"6c\", \"6d\", \"6e\", \"6f\", \"70\", \"71\", \"72\", \"73\", \"74\", \"75\", \"76\", \"77\", \"78\", \"79\", \"7a\", \"1a\", \"00\"\n",
    "                  , \"0c\"]\n",
    "    \n",
    "    n = len(ht)\n",
    "    place = 1\n",
    "    \n",
    "    for i in range(int(n/2)):\n",
    "        \n",
    "        cell = ht[2*i] + ht[2*i+1]\n",
    "        \n",
    "        for letter in hex_letter:\n",
    "            if cell == letter:\n",
    "                result_place.append(place)\n",
    "                break\n",
    "        \n",
    "        place = place + 1\n",
    "        \n",
    "    return result_place"
   ]
  },
  {
   "cell_type": "code",
   "execution_count": 11,
   "metadata": {},
   "outputs": [],
   "source": [
    "## find same place with two array\n",
    "def find_same_place(array1, array2):\n",
    "    \n",
    "    same_place = []\n",
    "    \n",
    "    for p1 in array1:\n",
    "        for p2 in array2:\n",
    "            \n",
    "            if p2 > p1:\n",
    "                break\n",
    "            \n",
    "            if p1 == p2:\n",
    "                same_place.append(p1)\n",
    "                break\n",
    "    \n",
    "    return same_place"
   ]
  },
  {
   "cell_type": "code",
   "execution_count": 12,
   "metadata": {},
   "outputs": [],
   "source": [
    "## find specific hex ciphertext's space place\n",
    "## if one cipher text xor all other cipher text get an alphabet (or space,colum,common) at a specific place\n",
    "## We say that in the original text of this cipher text at this place is a space\n",
    "## So we can xor this cipher text with target cipher text and look at the place with space\n",
    "## And get the target cipher text's original alphabet\n",
    "def space_place(cipher):\n",
    "    \n",
    "    count = 1\n",
    "    \n",
    "    for c in clist:\n",
    "        xor_text = hex_xor(cipher, c)\n",
    "        letter_place = find_letter(xor_text)\n",
    "        if count == 1:\n",
    "            same_place = letter_place\n",
    "        else:\n",
    "            same_place = find_same_place(same_place, letter_place)\n",
    "        count += 1\n",
    "        \n",
    "    return same_place"
   ]
  },
  {
   "cell_type": "code",
   "execution_count": 37,
   "metadata": {},
   "outputs": [],
   "source": [
    "import binascii\n",
    "\n",
    "def solve_tgt_msg(all_cipher, tgt_msg):\n",
    "    \n",
    "    decrypt_message = [\"_\"] * (int(len(tgt_msg)/2))\n",
    "    \n",
    "    for c in all_cipher:\n",
    "        \n",
    "        p = space_place(c)\n",
    "        decrypt_place = []\n",
    "        ## get place only for target text (smallew than its length)\n",
    "        for i in p:\n",
    "            if i <= (len(tgt_msg)/2):\n",
    "                decrypt_place.append(i)\n",
    "        \n",
    "        ct_xor = hex_xor(c, tgt_msg)\n",
    "        all_letter = []\n",
    "        decrypt_letter = []\n",
    "        \n",
    "        ## get xor letter in specific place\n",
    "        for place in decrypt_place:\n",
    "            l = ct_xor[2*(place-1)] + ct_xor[2*(place-1)+1]\n",
    "            all_letter.append(l)\n",
    "        \n",
    "        ## decrypt the letter we get using ASCII (xor with space)\n",
    "        for h in all_letter:\n",
    "            if(h==\"1a\"):\n",
    "                decrypt_letter.append(\":\")\n",
    "            elif(h==\"00\"):\n",
    "                decrypt_letter.append(\" \")\n",
    "            elif(h==\"0c\"):\n",
    "                decrypt_letter.append(\",\")\n",
    "            else:\n",
    "                alphabet = binascii.a2b_hex(h).decode(\"utf-8\")\n",
    "                if alphabet.isupper():\n",
    "                    alphabet = alphabet.lower()\n",
    "                elif alphabet.islower():\n",
    "                    alphabet = alphabet.upper()\n",
    "                decrypt_letter.append(alphabet)\n",
    "        \n",
    "        ## replace the message with what we got in decryption\n",
    "        count = 0   \n",
    "        for place in decrypt_place:\n",
    "            decrypt_message[place-1] = decrypt_letter[count]\n",
    "            count += 1\n",
    "    \n",
    "    ## convert to string\n",
    "    message = \"\"\n",
    "    for char in decrypt_message:\n",
    "        message = message + char\n",
    "    \n",
    "    print(message)"
   ]
  },
  {
   "cell_type": "code",
   "execution_count": 38,
   "metadata": {},
   "outputs": [
    {
     "name": "stdout",
     "output_type": "stream",
     "text": [
      "Th_ secuet_mes_age_is: Wh__ us_______tr____cipher,_never_use the key more than on__\n"
     ]
    }
   ],
   "source": [
    "solve_tgt_msg(clist, tgt_msg)"
   ]
  },
  {
   "cell_type": "markdown",
   "metadata": {},
   "source": [
    "## -------------------------------------------------------------------\n",
    "\n",
    "\n",
    "## Additional"
   ]
  },
  {
   "cell_type": "code",
   "execution_count": 62,
   "metadata": {},
   "outputs": [
    {
     "name": "stdout",
     "output_type": "stream",
     "text": [
      "0\n",
      "12104c06134e5709140f104f02521b0a0442020c4d070b184f4815541f0800484e1e0241061d064d540b0a020210194510164d4f3a005343004e430e1e1d0a524612171b0117001b0e45431c0c1d160a520d11744e19061a114d0e55174f084e543714050b174353541b48070e000e4d0809560987815f65286764703de0f3d524400a19b159610b11ef3e\n",
      "1\n",
      "204147afb4fceca0ac0f4d0ca156ae7b4882b900c7338355965b11ecb248b66349c146fb68808c6e3cee1706e2f7ab42a71dd6cd5b1178efb68625ac2cc2e805146fd58899e2f33e144804f90fdb78990fe50344fb827ce14e0ca1fdc12ec34e543714050b174353541b48070e000e4d0809560987815f65286764703de0f3d524400a19b159610b11ef3e\n",
      "2\n",
      "12104c061e4e440451090c4314411b1b1442130d0e290a5d545d5a441f1616094b51100f120a5f5e521b15184d1607430f0c4149214d104e01014c0f570a1c52405d141055561c5d4d4a521a0a16420c4b0b42241156260e1c08281a1b53401a568bb275b6bfa824061bf0ddb5ba2a261b06520409471b1b04111b4d0d0d723f0a0c1e1d50683b1b01081c9be6636aaa\n",
      "3\n",
      "2d4657afb3faf2efbd5d4e08b756ae7f55cdbf00dd768655874745adfd59f361439303fe6e8b863e2ef51705e2f7e742bd169fce5b1378f0a98c2db66dcff25f16739a85d7a3f36a124018f804ce2c9f16e35014a4cd55f55f0ae58fcc23864116211210441a4b1e5c1045011e1e1d040809562b878f406724611b4d0d0d723f0a0c1e1d50683b1b01081c9be6636aaa\n",
      "4\n",
      "1f175c541f014b5140090f5515154f160b070258186f4b1e55415e101f17440b5a4b49445a535816551d5a02051e444c5a02085225025b5814140f155305074d515d140a5a100a094e59511e44080d1a58595d6d4802070a4e18613b00425758148fae76b6a8af281f5ee9c1b5b7252603011e2b45450e0e11437f787ebfb6f13f091511a71c1b040eed3652140e1b1ccf61a711cc229f77ace7aa88a2f19983122b11be87a59c355d25f8e4\n",
      "5\n",
      "2d4657afb3faf2efbd5d4e08b756ae7f55cdbf00dd7686558c4e41b6f54ce0705b8240fe2cc597763be95606aaffe846f2168582435b76b58b937ba07ac2ed5f0c749a82d9e5e339111215e751c326ca02ac4e1eb5994dff5f1bfe99d92dd4195e255c170b0a465308515c0d57121b415f145226d3c457672534015a0b0c373f11494d3b597b7e0f1d0a14d5eb2c6bb700121c1345101c18110b54464252211755170a0031110d0f0e491c1db13f1efff71ea313c8661dd9a4ce\n",
      "6\n",
      "1c1a19451b4f0a50404c5b5612501b1f140b1f0c577e03185e540a0b100005185a5b03445c4e1d434f1d5a065506084953551a5226185116345b1b19554b035b1f5a511041101e144f5950035f0f1d575b450f63425016451e15643b1309115e1387ae61b1a9ea615149eed7fab626264d0156671124180240657e6b76a5e43f11494d3b597b7e0f1d0a14d5eb2c6bb700121c1345101c18110b54464252211755170a0031110d0f0e491c1db13f1efff71ea313c8661dd9a4ce\n",
      "7\n",
      "3b035fbca0fda4fdac5d4317ba4aa72f1ac1bf178f789e4497440fe2ee4aa8765e8e10ad31d7c36626a10456bbeaaf40e65f90ca595a35fb82d274ac629ba44d0c778d83cea0e622075756ee50c273c002b10b01bb9f41b14854e299d27e9e4b50680c110c0c03521355505f5e130404540e11798af547676b00451b070b21a5364c4524a7091b1215f2361c06411d538b71b7069530996bb6e5a4614252211755170a0031110d0f0e491c1db13f1efff71ea313c8661dd9a4ce\n",
      "8\n",
      "7d6e59504965135f5740055857664a595b1c152b4c640705585505591a43454f070e151e084b0cc990bc0743474a0c54584c1a556b0a0e162e52135c5840571a504c035f55071315545217455f5d4f104d4406674a4a180b1a5a6b3b19541d4b50680c110c0c03521355505f5e130404540e11798af547676b00451b070b21a5364c4524a7091b1215f2361c06411d538b71b7069530996bb6e5a4614252211755170a0031110d0f0e491c1db13f1efff71ea313c8661dd9a4ce\n",
      "7d6e59504965135f5740055857664a595b1c152b4c640705585505591a43454f070e151e084b0cc990bc0743474a0c54584c1a556b0a0e162e52135c5840571a504c035f55071315545217455f5d4f104d4406674a4a180b1a5a6b3b19541d4b50680c110c0c03521355505f5e130404540e11798af547676b00451b070b21a5364c4524a7091b1215f2361c06411d538b71b7069530996bb6e5a4614252211755170a0031110d0f0e491c1db13f1efff71ea313c8661dd9a4ce\n"
     ]
    }
   ],
   "source": [
    "## xor all cipher text\n",
    "clist = [c1, c2, c3, c4, c5, c6, c7, c8, c9, c10]\n",
    "\n",
    "all_xor = c1\n",
    "\n",
    "for i in range(9):\n",
    "    \n",
    "    s = clist[i+1]\n",
    "    result = \"\"\n",
    "    \n",
    "    if len(s) > len(all_xor):\n",
    "        n = len(s)\n",
    "    else:\n",
    "        n = len(all_xor)\n",
    "        \n",
    "    for j in range(int(n/2)):\n",
    "        \n",
    "        if (2*j) < len(all_xor):\n",
    "            hex1 = all_xor[2*j] + all_xor[2*j+1]\n",
    "            hex1 = \"0x\" + hex1\n",
    "            hex1 = int(hex1, 16)\n",
    "        else:\n",
    "            hex1 = int(\"0x00\", 16)\n",
    "        \n",
    "        if (2*j) < len(s):\n",
    "            hex2 = s[2*j] + s[2*j+1]\n",
    "            hex2 = \"0x\" + hex2\n",
    "            hex2 = int(hex2, 16)\n",
    "        else:\n",
    "            hex2 = int(\"0x00\", 16)\n",
    "        \n",
    "        r = hex(hex1^hex2)\n",
    "        if len(r) == 4:\n",
    "            result = result + r[2:]\n",
    "        elif len(r) == 3:\n",
    "            result = result + \"0\" + r[2:]\n",
    "        else:\n",
    "            print(\"error\")\n",
    "        \n",
    "    all_xor = result\n",
    "    print(i)\n",
    "    print(all_xor)\n",
    "        \n",
    "print(all_xor)"
   ]
  },
  {
   "cell_type": "code",
   "execution_count": 8,
   "metadata": {},
   "outputs": [
    {
     "name": "stdout",
     "output_type": "stream",
     "text": [
      "5279616e\n"
     ]
    }
   ],
   "source": [
    "## str to hex (ASCII)\n",
    "a = \"Ryan\".encode(\"ASCII\")\n",
    "h = a.hex()\n",
    "print(h)"
   ]
  },
  {
   "cell_type": "code",
   "execution_count": 17,
   "metadata": {},
   "outputs": [
    {
     "name": "stdout",
     "output_type": "stream",
     "text": [
      "Ryan\n"
     ]
    }
   ],
   "source": [
    "## hex to str (ASCII)\n",
    "import binascii\n",
    "x = \"5279616e\"\n",
    "y = binascii.a2b_hex(x)\n",
    "print(y.decode(\"ASCII\"))"
   ]
  },
  {
   "cell_type": "code",
   "execution_count": null,
   "metadata": {},
   "outputs": [],
   "source": []
  }
 ],
 "metadata": {
  "kernelspec": {
   "display_name": "Python 3",
   "language": "python",
   "name": "python3"
  },
  "language_info": {
   "codemirror_mode": {
    "name": "ipython",
    "version": 3
   },
   "file_extension": ".py",
   "mimetype": "text/x-python",
   "name": "python",
   "nbconvert_exporter": "python",
   "pygments_lexer": "ipython3",
   "version": "3.7.6"
  }
 },
 "nbformat": 4,
 "nbformat_minor": 4
}
